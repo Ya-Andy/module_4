{
 "cells": [
  {
   "cell_type": "markdown",
   "metadata": {
    "papermill": {
     "duration": 0.066662,
     "end_time": "2020-11-07T01:53:31.468754",
     "exception": false,
     "start_time": "2020-11-07T01:53:31.402092",
     "status": "completed"
    },
    "tags": []
   },
   "source": [
    "# _Проекту 4. Компьютер говорит «Нет»_\n",
    "\n",
    "**Юнит 5. Основные алгоритмы машинного обучения. Часть I (Andrew Glybin)**"
   ]
  },
  {
   "cell_type": "markdown",
   "metadata": {
    "papermill": {
     "duration": 0.063401,
     "end_time": "2020-11-07T01:53:31.596510",
     "exception": false,
     "start_time": "2020-11-07T01:53:31.533109",
     "status": "completed"
    },
    "tags": []
   },
   "source": [
    "## Основная информация"
   ]
  },
  {
   "cell_type": "markdown",
   "metadata": {
    "papermill": {
     "duration": 0.065266,
     "end_time": "2020-11-07T01:53:31.725538",
     "exception": false,
     "start_time": "2020-11-07T01:53:31.660272",
     "status": "completed"
    },
    "tags": []
   },
   "source": [
    "Вашей задачей будет построить скоринг модель для вторичных клиентов банка, которая бы предсказывала вероятность дефолта клиента. Для этого нужно будет определить значимые параметры заемщика.\n",
    "\n",
    "Вам предоставлена информация из анкетных данных заемщиков и факт наличия дефолта.\n",
    "\n",
    "**Описания полей:**\n",
    "\n",
    "* client_id - идентификатор клиента\n",
    "\n",
    "* education - уровень образования\n",
    "\n",
    "* sex - пол заемщика\n",
    "\n",
    "* age - возраст заемщика\n",
    "\n",
    "* car - флаг наличия автомобиля\n",
    "\n",
    "* car_type - флаг автомобиля иномарки\n",
    "\n",
    "* decline_app_cnt - количество отказанных прошлых заявок\n",
    "\n",
    "* good_work - флаг наличия “хорошей” работы\n",
    "\n",
    "* bki_request_cnt - количество запросов в БКИ\n",
    "\n",
    "* home_address - категоризатор домашнего адреса\n",
    "\n",
    "* work_address - категоризатор рабочего адреса\n",
    "\n",
    "* income - доход заемщика\n",
    "\n",
    "* foreign_passport - наличие загранпаспорта\n",
    "\n",
    "* sna - связь заемщика с клиентами банка\n",
    "\n",
    "* first_time - давность наличия информации о заемщике\n",
    "\n",
    "* score_bki - скоринговый балл по данным из БКИ\n",
    "\n",
    "* region_rating - рейтинг региона\n",
    "\n",
    "* app_date - дата подачи заявки\n",
    "\n",
    "* default - флаг дефолта по кредиту"
   ]
  },
  {
   "cell_type": "markdown",
   "metadata": {
    "papermill": {
     "duration": 0.066146,
     "end_time": "2020-11-07T01:53:31.856334",
     "exception": false,
     "start_time": "2020-11-07T01:53:31.790188",
     "status": "completed"
    },
    "tags": []
   },
   "source": [
    "**Метрика качества**\n",
    "\n",
    "Результаты оцениваются по площади под кривой ROC AUC"
   ]
  },
  {
   "cell_type": "markdown",
   "metadata": {
    "papermill": {
     "duration": 0.063145,
     "end_time": "2020-11-07T01:53:31.984875",
     "exception": false,
     "start_time": "2020-11-07T01:53:31.921730",
     "status": "completed"
    },
    "tags": []
   },
   "source": [
    "## 1. Импорт библиотек \n"
   ]
  },
  {
   "cell_type": "code",
   "execution_count": null,
   "metadata": {
    "_cell_guid": "b1076dfc-b9ad-4769-8c92-a6c4dae69d19",
    "_uuid": "8f2839f25d086af736a60e9eeb907d3b93b6e0e5",
    "execution": {
     "iopub.execute_input": "2020-11-07T01:53:32.120173Z",
     "iopub.status.busy": "2020-11-07T01:53:32.119272Z",
     "iopub.status.idle": "2020-11-07T01:53:32.124251Z",
     "shell.execute_reply": "2020-11-07T01:53:32.123258Z"
    },
    "papermill": {
     "duration": 0.076278,
     "end_time": "2020-11-07T01:53:32.124443",
     "exception": false,
     "start_time": "2020-11-07T01:53:32.048165",
     "status": "completed"
    },
    "tags": []
   },
   "outputs": [],
   "source": [
    "# This Python 3 environment comes with many helpful analytics libraries installed\n",
    "# It is defined by the kaggle/python Docker image: https://github.com/kaggle/docker-python\n",
    "# For example, here's several helpful packages to load\n",
    "\n",
    "import numpy as np # linear algebra\n",
    "import pandas as pd # data processing, CSV file I/O (e.g. pd.read_csv)\n",
    "\n",
    "# Input data files are available in the read-only \"../input/\" directory\n",
    "# For example, running this (by clicking run or pressing Shift+Enter) will list all files under the input directory\n",
    "\n",
    "# import os\n",
    "# for dirname, _, filenames in os.walk('/kaggle/input'):\n",
    "#     for filename in filenames:\n",
    "#         print(os.path.join(dirname, filename))\n",
    "\n",
    "# You can write up to 20GB to the current directory (/kaggle/working/) that gets preserved as output when you create a version using \"Save & Run All\" \n",
    "# You can also write temporary files to /kaggle/temp/, but they won't be saved outside of the current session"
   ]
  },
  {
   "cell_type": "code",
   "execution_count": null,
   "metadata": {
    "execution": {
     "iopub.execute_input": "2020-11-07T01:53:32.262605Z",
     "iopub.status.busy": "2020-11-07T01:53:32.261780Z",
     "iopub.status.idle": "2020-11-07T01:53:32.265437Z",
     "shell.execute_reply": "2020-11-07T01:53:32.264787Z"
    },
    "papermill": {
     "duration": 0.073981,
     "end_time": "2020-11-07T01:53:32.265574",
     "exception": false,
     "start_time": "2020-11-07T01:53:32.191593",
     "status": "completed"
    },
    "tags": []
   },
   "outputs": [],
   "source": [
    "# PATH_to_file = '/kaggle/input/sf-dst-scoring/'"
   ]
  },
  {
   "cell_type": "code",
   "execution_count": null,
   "metadata": {
    "execution": {
     "iopub.execute_input": "2020-11-07T01:53:32.413920Z",
     "iopub.status.busy": "2020-11-07T01:53:32.411778Z",
     "iopub.status.idle": "2020-11-07T01:53:34.573303Z",
     "shell.execute_reply": "2020-11-07T01:53:34.572444Z"
    },
    "papermill": {
     "duration": 2.240896,
     "end_time": "2020-11-07T01:53:34.573502",
     "exception": false,
     "start_time": "2020-11-07T01:53:32.332606",
     "status": "completed"
    },
    "tags": []
   },
   "outputs": [],
   "source": [
    "from pandas import Series\n",
    "from datetime import datetime, timedelta\n",
    "\n",
    "from sklearn.feature_selection import f_classif, mutual_info_classif\n",
    "from sklearn.preprocessing import LabelEncoder, OneHotEncoder, StandardScaler\n",
    "from sklearn.preprocessing import PolynomialFeatures\n",
    "\n",
    "from sklearn.model_selection import train_test_split\n",
    "from sklearn.linear_model import LogisticRegression\n",
    "from sklearn.model_selection import GridSearchCV\n",
    "\n",
    "from sklearn.metrics import confusion_matrix\n",
    "from sklearn.metrics import auc, roc_auc_score, roc_curve\n",
    "from sklearn.metrics import mean_squared_error\n",
    "from sklearn.metrics import accuracy_score, f1_score, precision_score, recall_score\n",
    "from sklearn.metrics import plot_confusion_matrix, plot_roc_curve, plot_precision_recall_curve\n",
    "\n",
    "import warnings\n",
    "warnings.filterwarnings('ignore')\n",
    "\n",
    "import pandas_profiling\n",
    "\n",
    "import matplotlib.pyplot as plt\n",
    "import seaborn as sns \n",
    "%matplotlib inline"
   ]
  },
  {
   "cell_type": "code",
   "execution_count": null,
   "metadata": {},
   "outputs": [],
   "source": [
    "# изменим параметры для изображений\n",
    "sns.set_context(\n",
    "    \"notebook\", \n",
    "    font_scale=1.5,       \n",
    "    rc={ \n",
    "        \"figure.figsize\": (11, 8), \n",
    "        \"axes.titlesize\": 18 \n",
    "    }\n",
    ")\n",
    "\n",
    "# графики в svg выглядят более четкими\n",
    "%config InlineBackend.figure_format = 'svg' \n",
    "\n",
    "# увеличим дефолтный размер графиков\n",
    "from pylab import rcParams\n",
    "# rcParams['figure.figsize'] = 8, 5\n",
    "# from matplotlib import rcParams\n",
    "rcParams['figure.figsize'] = 11, 8\n",
    "\n",
    "pd.set_option('display.max_columns', None)\n",
    "np.set_printoptions(precision=2)\n"
   ]
  },
  {
   "cell_type": "code",
   "execution_count": null,
   "metadata": {
    "execution": {
     "iopub.execute_input": "2020-11-07T01:53:34.713676Z",
     "iopub.status.busy": "2020-11-07T01:53:34.712536Z",
     "iopub.status.idle": "2020-11-07T01:53:37.463986Z",
     "shell.execute_reply": "2020-11-07T01:53:37.463376Z"
    },
    "papermill": {
     "duration": 2.823264,
     "end_time": "2020-11-07T01:53:37.464135",
     "exception": false,
     "start_time": "2020-11-07T01:53:34.640871",
     "status": "completed"
    },
    "tags": []
   },
   "outputs": [],
   "source": [
    "# зафиксируем RANDOM_SEED, версию пакетов, общую текущую дату\n",
    "RANDOM_SEED = 42\n",
    "!pip freeze > requirements.txt\n",
    "CURRENT_DATE = pd.to_datetime('06/11/2020')"
   ]
  },
  {
   "cell_type": "markdown",
   "metadata": {
    "papermill": {
     "duration": 0.067372,
     "end_time": "2020-11-07T01:53:37.597345",
     "exception": false,
     "start_time": "2020-11-07T01:53:37.529973",
     "status": "completed"
    },
    "tags": []
   },
   "source": [
    "## 2. Импорт данных"
   ]
  },
  {
   "cell_type": "code",
   "execution_count": null,
   "metadata": {
    "execution": {
     "iopub.execute_input": "2020-11-07T01:53:37.737597Z",
     "iopub.status.busy": "2020-11-07T01:53:37.732464Z",
     "iopub.status.idle": "2020-11-07T01:53:38.035639Z",
     "shell.execute_reply": "2020-11-07T01:53:38.034937Z"
    },
    "papermill": {
     "duration": 0.373161,
     "end_time": "2020-11-07T01:53:38.035791",
     "exception": false,
     "start_time": "2020-11-07T01:53:37.662630",
     "status": "completed"
    },
    "tags": []
   },
   "outputs": [],
   "source": [
    "# df_train = pd.read_csv(PATH_to_file+'train.csv')\n",
    "# df_test = pd.read_csv(PATH_to_file+'test.csv')\n",
    "df_train = pd.read_csv('train.csv')\n",
    "df_test = pd.read_csv('test.csv')\n",
    "\n",
    "print('Размерность тренировочного датасета: ', df_train.shape)\n",
    "print('Размерность тестового датасета: ', df_test.shape)\n",
    "\n",
    "# sample_submission = pd.read_csv(PATH_to_file+'sample_submission.csv')"
   ]
  },
  {
   "cell_type": "code",
   "execution_count": null,
   "metadata": {
    "execution": {
     "iopub.execute_input": "2020-11-07T01:53:38.194236Z",
     "iopub.status.busy": "2020-11-07T01:53:38.183517Z",
     "iopub.status.idle": "2020-11-07T01:53:38.210477Z",
     "shell.execute_reply": "2020-11-07T01:53:38.209778Z"
    },
    "papermill": {
     "duration": 0.10634,
     "end_time": "2020-11-07T01:53:38.210607",
     "exception": false,
     "start_time": "2020-11-07T01:53:38.104267",
     "status": "completed"
    },
    "tags": []
   },
   "outputs": [],
   "source": [
    "df_train.head(1)"
   ]
  },
  {
   "cell_type": "code",
   "execution_count": null,
   "metadata": {
    "execution": {
     "iopub.execute_input": "2020-11-07T01:53:38.363980Z",
     "iopub.status.busy": "2020-11-07T01:53:38.362877Z",
     "iopub.status.idle": "2020-11-07T01:53:38.366632Z",
     "shell.execute_reply": "2020-11-07T01:53:38.367213Z"
    },
    "papermill": {
     "duration": 0.089947,
     "end_time": "2020-11-07T01:53:38.367395",
     "exception": false,
     "start_time": "2020-11-07T01:53:38.277448",
     "status": "completed"
    },
    "tags": []
   },
   "outputs": [],
   "source": [
    "df_test.head(1)"
   ]
  },
  {
   "cell_type": "code",
   "execution_count": null,
   "metadata": {
    "execution": {
     "iopub.execute_input": "2020-11-07T01:53:38.512281Z",
     "iopub.status.busy": "2020-11-07T01:53:38.511179Z",
     "iopub.status.idle": "2020-11-07T01:53:38.592664Z",
     "shell.execute_reply": "2020-11-07T01:53:38.593273Z"
    },
    "papermill": {
     "duration": 0.157752,
     "end_time": "2020-11-07T01:53:38.593483",
     "exception": false,
     "start_time": "2020-11-07T01:53:38.435731",
     "status": "completed"
    },
    "tags": []
   },
   "outputs": [],
   "source": [
    "# ВАЖНО! дря корректной обработки признаков объединяем трейн и тест в один датасет\n",
    "\n",
    "df_train['sample'] = 1   # помечаем где у нас трейн\n",
    "df_test['sample'] = 0    # помечаем где у нас тест\n",
    "df_test['default'] = -1  # в тесте у нас нет значения default, мы его должны предсказать, \n",
    "                         # но его значения 0 или 1, поэтому заполняем его временно -1 для избежания ошибки\n",
    "\n",
    "data = df_test.append(df_train, sort=False).reset_index(drop=True)   # объединяем"
   ]
  },
  {
   "cell_type": "markdown",
   "metadata": {
    "papermill": {
     "duration": 0.067294,
     "end_time": "2020-11-07T01:53:38.728771",
     "exception": false,
     "start_time": "2020-11-07T01:53:38.661477",
     "status": "completed"
    },
    "tags": []
   },
   "source": [
    "## 3. Предварительный анализ данных"
   ]
  },
  {
   "cell_type": "code",
   "execution_count": null,
   "metadata": {
    "execution": {
     "iopub.execute_input": "2020-11-07T01:53:38.872487Z",
     "iopub.status.busy": "2020-11-07T01:53:38.871409Z",
     "iopub.status.idle": "2020-11-07T01:53:38.874199Z",
     "shell.execute_reply": "2020-11-07T01:53:38.874757Z"
    },
    "papermill": {
     "duration": 0.075184,
     "end_time": "2020-11-07T01:53:38.874923",
     "exception": false,
     "start_time": "2020-11-07T01:53:38.799739",
     "status": "completed"
    },
    "tags": []
   },
   "outputs": [],
   "source": [
    "pandas_profiling.ProfileReport(df_train)"
   ]
  },
  {
   "cell_type": "code",
   "execution_count": null,
   "metadata": {
    "execution": {
     "iopub.execute_input": "2020-11-07T01:53:39.062923Z",
     "iopub.status.busy": "2020-11-07T01:53:39.015472Z",
     "iopub.status.idle": "2020-11-07T01:53:39.081019Z",
     "shell.execute_reply": "2020-11-07T01:53:39.079695Z"
    },
    "papermill": {
     "duration": 0.138651,
     "end_time": "2020-11-07T01:53:39.081162",
     "exception": false,
     "start_time": "2020-11-07T01:53:38.942511",
     "status": "completed"
    },
    "tags": []
   },
   "outputs": [],
   "source": [
    "df_train.info()"
   ]
  },
  {
   "cell_type": "code",
   "execution_count": null,
   "metadata": {
    "execution": {
     "iopub.execute_input": "2020-11-07T01:53:39.248668Z",
     "iopub.status.busy": "2020-11-07T01:53:39.224342Z",
     "iopub.status.idle": "2020-11-07T01:53:39.264482Z",
     "shell.execute_reply": "2020-11-07T01:53:39.263642Z"
    },
    "papermill": {
     "duration": 0.114513,
     "end_time": "2020-11-07T01:53:39.264653",
     "exception": false,
     "start_time": "2020-11-07T01:53:39.150140",
     "status": "completed"
    },
    "tags": []
   },
   "outputs": [],
   "source": [
    "df_test.info()"
   ]
  },
  {
   "cell_type": "code",
   "execution_count": null,
   "metadata": {
    "execution": {
     "iopub.execute_input": "2020-11-07T01:53:39.419569Z",
     "iopub.status.busy": "2020-11-07T01:53:39.418113Z",
     "iopub.status.idle": "2020-11-07T01:53:39.531935Z",
     "shell.execute_reply": "2020-11-07T01:53:39.532889Z"
    },
    "papermill": {
     "duration": 0.197405,
     "end_time": "2020-11-07T01:53:39.533156",
     "exception": false,
     "start_time": "2020-11-07T01:53:39.335751",
     "status": "completed"
    },
    "tags": []
   },
   "outputs": [],
   "source": [
    "data.info()"
   ]
  },
  {
   "cell_type": "code",
   "execution_count": null,
   "metadata": {},
   "outputs": [],
   "source": [
    "(data.isna()).sum()"
   ]
  },
  {
   "cell_type": "code",
   "execution_count": null,
   "metadata": {},
   "outputs": [],
   "source": [
    "data['region_rating'].value_counts()"
   ]
  },
  {
   "cell_type": "markdown",
   "metadata": {
    "papermill": {
     "duration": 0.06977,
     "end_time": "2020-11-07T01:53:39.675936",
     "exception": false,
     "start_time": "2020-11-07T01:53:39.606166",
     "status": "completed"
    },
    "tags": []
   },
   "source": [
    "### Резюме по предварительному анализу данных: \n",
    "\n",
    "В тренировочной выборке 73799 клиентов, в тестовой выборке 36349. \n",
    "\n",
    "Всего имеются данные о 110148 клиентах. \n",
    "\n",
    "Всего представлены 20 признаков, из них 1 - временной ряд, 7 бинарных (в т.ч. добавленный признак ***sample***), 6 категориальных и 6 числовых. \n",
    "\n",
    "Всего пропусков 478 (307 - в наборе train, 171 - в наборе test), все пропуски в переменной ***education***. \n",
    "\n",
    "***client_id*** уникальный числовой признак, который содержит числовой признак клиента. Вероятно, не несет полезной информации для модели. \n",
    "\n",
    "Целевая переменная ***default*** является бинарной (True - False).\n",
    "\n",
    "Сильной корреляции между численными признаками не наблюдается ни в одной из матриц корреляции."
   ]
  },
  {
   "cell_type": "code",
   "execution_count": null,
   "metadata": {
    "execution": {
     "iopub.execute_input": "2020-11-07T01:53:39.824887Z",
     "iopub.status.busy": "2020-11-07T01:53:39.824021Z",
     "iopub.status.idle": "2020-11-07T01:53:39.839352Z",
     "shell.execute_reply": "2020-11-07T01:53:39.838563Z"
    },
    "papermill": {
     "duration": 0.093915,
     "end_time": "2020-11-07T01:53:39.839478",
     "exception": false,
     "start_time": "2020-11-07T01:53:39.745563",
     "status": "completed"
    },
    "tags": []
   },
   "outputs": [],
   "source": [
    "# создаём списки на основании резюме\n",
    "# client_id, default, sample не включаем в списки\n",
    "\n",
    "# временной ряд (1)\n",
    "time_cols = ['app_date']\n",
    "\n",
    "# бинарные признаки (7-2)\n",
    "bin_cols = ['sex', 'car', 'car_type', 'good_work', 'foreign_passport']\n",
    "\n",
    "# категориальные признаки (6)\n",
    "cat_cols = ['education', 'region_rating', 'home_address', 'work_address', 'sna', 'first_time']\n",
    "\n",
    "# числовые признаки (6-1)\n",
    "num_cols = ['age', 'decline_app_cnt', 'score_bki', 'bki_request_cnt', 'income']\n",
    "\n",
    "# default признаём целевой переменной \n",
    "target = 'default'\n",
    "\n",
    "# ID клиентов удаляем из-за неинформативности\n",
    "data.drop(['client_id'], axis=1, inplace=True)"
   ]
  },
  {
   "cell_type": "markdown",
   "metadata": {
    "papermill": {
     "duration": 0.069172,
     "end_time": "2020-11-07T01:53:39.978411",
     "exception": false,
     "start_time": "2020-11-07T01:53:39.909239",
     "status": "completed"
    },
    "tags": []
   },
   "source": [
    "## 4. Функции для анализа данных"
   ]
  },
  {
   "cell_type": "code",
   "execution_count": null,
   "metadata": {
    "execution": {
     "iopub.execute_input": "2020-11-07T01:53:40.130879Z",
     "iopub.status.busy": "2020-11-07T01:53:40.129779Z",
     "iopub.status.idle": "2020-11-07T01:53:40.133339Z",
     "shell.execute_reply": "2020-11-07T01:53:40.132584Z"
    },
    "papermill": {
     "duration": 0.085393,
     "end_time": "2020-11-07T01:53:40.133464",
     "exception": false,
     "start_time": "2020-11-07T01:53:40.048071",
     "status": "completed"
    },
    "tags": []
   },
   "outputs": [],
   "source": [
    "def outliers(df_col):\n",
    "    '''\n",
    "    Определение наличия выбросов в отдельном признаке датасета.\n",
    "    Расчёт данных описательной статистики. Определение границ выбросов.\n",
    "    Подсчёт общего количества выбросов в признаке.\n",
    "    \n",
    "    df_col - название столбца датасета. \n",
    "    \n",
    "    '''\n",
    "    \n",
    "    q1 = df_train[df_col].quantile(0.25)\n",
    "    q3 = df_train[df_col].quantile(0.75)\n",
    "    IQR = q3 - q1\n",
    "    low = q1 - (1.5 * IQR)\n",
    "    high = q3 + (1.5 * IQR)\n",
    "    for i in df_train[df_col]:\n",
    "        if (i <= low) or (i >= high):\n",
    "            print(\"В признаке '{}' есть значения, которые могут считаться выбросами\".format(df_col))\n",
    "            break\n",
    "        \n",
    "    print(\"Количество выбросов в признаке '{}': {}.\"\n",
    "          .format(df_col, ((df_train[df_col] < (q1 - 1.5 * IQR)) | (df_train[df_col] > (q3 + 1.5 * IQR))).sum()))\n",
    "    print(\"25-й процентиль: {}, 75-й процентиль: {}, IQR: {}, Границы выбросов: [{}, {}]\".format(q1, q3, IQR, low, high))\n",
    "    "
   ]
  },
  {
   "cell_type": "code",
   "execution_count": null,
   "metadata": {
    "execution": {
     "iopub.execute_input": "2020-11-07T01:53:40.291606Z",
     "iopub.status.busy": "2020-11-07T01:53:40.290496Z",
     "iopub.status.idle": "2020-11-07T01:53:40.294019Z",
     "shell.execute_reply": "2020-11-07T01:53:40.293358Z"
    },
    "papermill": {
     "duration": 0.088653,
     "end_time": "2020-11-07T01:53:40.294142",
     "exception": false,
     "start_time": "2020-11-07T01:53:40.205489",
     "status": "completed"
    },
    "tags": []
   },
   "outputs": [],
   "source": [
    "def numerical_features(item_name, n_bins=100):\n",
    "    '''\n",
    "    Функция для анализа численных признаков.\n",
    "    \n",
    "    Рисует следующие графики:\n",
    "    - боксплот `sns.boxplot()`: удобно выявлять аномалии\n",
    "    - распределение `sns.distplot()`\n",
    "     \n",
    "    Вычисляет базовые статистические показатели `.describe()` \n",
    "        \n",
    "    item_name - название численного признака датасета.\n",
    "    \n",
    "    '''\n",
    "    \n",
    "    fig, axes = plt.subplots(1, 2, figsize=(15, 10))\n",
    "        \n",
    "    # boxplot    \n",
    "    df_train.boxplot(column=item_name, ax=axes[0])\n",
    "    axes[0].set_title(item_name, fontsize=22)\n",
    "    \n",
    "    # distplot\n",
    "    sns.distplot(df_train[item_name], bins=n_bins, kde=False, ax=axes[1], vertical=True)\n",
    "    axes[1].set_title(item_name, fontsize=22)\n",
    "    plt.xticks(rotation=45)\n",
    "         \n",
    "    # descriptive statistics\n",
    "    print(pd.DataFrame(df_train[item_name].describe()).T, \"\\n\")\n"
   ]
  },
  {
   "cell_type": "code",
   "execution_count": null,
   "metadata": {
    "execution": {
     "iopub.execute_input": "2020-11-07T01:53:40.444418Z",
     "iopub.status.busy": "2020-11-07T01:53:40.443350Z",
     "iopub.status.idle": "2020-11-07T01:53:40.446887Z",
     "shell.execute_reply": "2020-11-07T01:53:40.446134Z"
    },
    "papermill": {
     "duration": 0.081816,
     "end_time": "2020-11-07T01:53:40.447012",
     "exception": false,
     "start_time": "2020-11-07T01:53:40.365196",
     "status": "completed"
    },
    "tags": []
   },
   "outputs": [],
   "source": [
    "def split(df):\n",
    "    '''\n",
    "    Функция для разбиения датасета на тренировочный и валидационный\n",
    "    \n",
    "    '''\n",
    "    \n",
    "    y = df.default.values            \n",
    "    x = df.drop(columns=['default'])\n",
    "    X_train, X_test, y_train, y_test = train_test_split(x, y, test_size=0.2, random_state=RANDOM_SEED)\n",
    "    return X_train, X_test, y_train, y_test\n"
   ]
  },
  {
   "cell_type": "code",
   "execution_count": null,
   "metadata": {
    "execution": {
     "iopub.execute_input": "2020-11-07T01:53:40.606449Z",
     "iopub.status.busy": "2020-11-07T01:53:40.605450Z",
     "iopub.status.idle": "2020-11-07T01:53:40.608266Z",
     "shell.execute_reply": "2020-11-07T01:53:40.608855Z"
    },
    "papermill": {
     "duration": 0.091736,
     "end_time": "2020-11-07T01:53:40.609030",
     "exception": false,
     "start_time": "2020-11-07T01:53:40.517294",
     "status": "completed"
    },
    "tags": []
   },
   "outputs": [],
   "source": [
    "def all_metrics(y_true, y_pred, y_pred_prob):\n",
    "    '''\n",
    "    Функция выводит в виде датафрейма значения основных метрик классификации\n",
    "    \n",
    "    '''\n",
    "    \n",
    "    dict_metric = {}\n",
    "    P = np.sum(y_true==1)\n",
    "    N = np.sum(y_true==0)\n",
    "    TP = np.sum((y_true==1)&(y_pred==1))\n",
    "    TN = np.sum((y_true==0)&(y_pred==0))\n",
    "    FP = np.sum((y_true==1)&(y_pred==0))\n",
    "    FN = np.sum((y_true==0)&(y_pred==1))\n",
    "    \n",
    "    dict_metric['P'] = [P,'Наличие дефолта']\n",
    "    dict_metric['N'] = [N,'Отсутствие дефолта']\n",
    "    dict_metric['TP'] = [TP,'Верно принято']\n",
    "    dict_metric['TN'] = [TN,'Верно отвергнуто']\n",
    "    dict_metric['FP'] = [FP,'Ошибка первого рода']\n",
    "    dict_metric['FN'] = [FN,'Ошибка второго рода']\n",
    "    dict_metric['Accuracy'] = [accuracy_score(y_true, y_pred),'Доля верно определённых']\n",
    "    dict_metric['Precision'] = [precision_score(y_true, y_pred),'Точность определения'] \n",
    "    dict_metric['Recall'] = [recall_score(y_true, y_pred),'Полнота определения']\n",
    "    dict_metric['F1-score'] = [f1_score(y_true, y_pred),'Гармоническое среднее Precision и Recall']\n",
    "    dict_metric['ROC_AUC'] = [roc_auc_score(y_true, y_pred_prob),'Площадь под кривой ошибок']    \n",
    "\n",
    "    temp_df = pd.DataFrame.from_dict(dict_metric, orient='index', columns=['Значение', 'Описание'])\n",
    "    display(temp_df)   \n",
    "    "
   ]
  },
  {
   "cell_type": "code",
   "execution_count": null,
   "metadata": {
    "execution": {
     "iopub.execute_input": "2020-11-07T01:53:40.761835Z",
     "iopub.status.busy": "2020-11-07T01:53:40.760827Z",
     "iopub.status.idle": "2020-11-07T01:53:40.764112Z",
     "shell.execute_reply": "2020-11-07T01:53:40.763377Z"
    },
    "papermill": {
     "duration": 0.08431,
     "end_time": "2020-11-07T01:53:40.764237",
     "exception": false,
     "start_time": "2020-11-07T01:53:40.679927",
     "status": "completed"
    },
    "tags": []
   },
   "outputs": [],
   "source": [
    "def show_confusion_matrix(lastmodel):\n",
    "    '''\n",
    "    Функция отображает пару confusion-матриц:\n",
    "    с абсолютными значениями и нормализованную.\n",
    "    \n",
    "    На вход подаётся последняя модель.\n",
    "    Функция использует тестовые значения выборки и целевого признака.\n",
    "    \n",
    "    '''\n",
    "    \n",
    "    class_names = ['NonDefault', 'Default']\n",
    "    titles_options = [(\"Confusion matrix без нормализации\", None),\n",
    "                      (\"Нормализованная confusion matrix\", 'true')]\n",
    "    for title, normalize in titles_options:\n",
    "        disp = plot_confusion_matrix(lastmodel, X_test, y_test, \n",
    "                                     display_labels=class_names, \n",
    "                                     cmap=plt.cm.Blues, \n",
    "                                     normalize=normalize)\n",
    "        disp.ax_.set_title(title)\n",
    "\n",
    "        print(title)\n",
    "        print(disp.confusion_matrix)\n",
    "\n",
    "    plt.show()\n",
    "    "
   ]
  },
  {
   "cell_type": "code",
   "execution_count": null,
   "metadata": {
    "execution": {
     "iopub.execute_input": "2020-11-07T01:53:40.918061Z",
     "iopub.status.busy": "2020-11-07T01:53:40.917067Z",
     "iopub.status.idle": "2020-11-07T01:53:40.919866Z",
     "shell.execute_reply": "2020-11-07T01:53:40.920427Z"
    },
    "papermill": {
     "duration": 0.085131,
     "end_time": "2020-11-07T01:53:40.920600",
     "exception": false,
     "start_time": "2020-11-07T01:53:40.835469",
     "status": "completed"
    },
    "tags": []
   },
   "outputs": [],
   "source": [
    "def show_roc_curve(lastmodel):\n",
    "    '''\n",
    "    Функция отображает ROC-кривую.\n",
    "    \n",
    "    На вход подаётся последняя модель.\n",
    "    Функция использует тестовые значения выборки и целевого признака.\n",
    "    \n",
    "    '''\n",
    "    \n",
    "    probs = lastmodel.predict_proba(X_test)\n",
    "    probs = probs[:,1]\n",
    "    \n",
    "    fpr, tpr, threshold = roc_curve(y_test, probs)\n",
    "    roc_auc = roc_auc_score(y_test, probs)\n",
    "    \n",
    "    fpr, tpr, _ = roc_curve(y_test, y_pred_prob)\n",
    "    plt.figure()\n",
    "    plt.plot([0, 1], label = 'Случайный классификатор', linestyle='--')\n",
    "    plt.plot(fpr, tpr, label = 'Логистическая регрессия')\n",
    "    plt.title('Логистическая регрессия ROC AUC = %0.3f' % roc_auc)\n",
    "    plt.ylabel('True Positive Rate')\n",
    "    plt.xlabel('False Positive Rate')\n",
    "    plt.legend(loc = 'lower right')\n",
    "    plt.show()\n",
    "    "
   ]
  },
  {
   "cell_type": "markdown",
   "metadata": {
    "papermill": {
     "duration": 0.070385,
     "end_time": "2020-11-07T01:53:41.061928",
     "exception": false,
     "start_time": "2020-11-07T01:53:40.991543",
     "status": "completed"
    },
    "tags": []
   },
   "source": [
    "## 5. Анализ датасета по признакам.\n",
    "\n",
    "### 5.1 Численные признаки:"
   ]
  },
  {
   "cell_type": "code",
   "execution_count": null,
   "metadata": {
    "execution": {
     "iopub.execute_input": "2020-11-07T01:53:41.211760Z",
     "iopub.status.busy": "2020-11-07T01:53:41.210888Z",
     "iopub.status.idle": "2020-11-07T01:53:47.227554Z",
     "shell.execute_reply": "2020-11-07T01:53:47.226795Z"
    },
    "papermill": {
     "duration": 6.094923,
     "end_time": "2020-11-07T01:53:47.227676",
     "exception": false,
     "start_time": "2020-11-07T01:53:41.132753",
     "status": "completed"
    },
    "tags": []
   },
   "outputs": [],
   "source": [
    "for col in num_cols:\n",
    "    outliers(col)\n",
    "    numerical_features(col)"
   ]
  },
  {
   "cell_type": "markdown",
   "metadata": {
    "papermill": {
     "duration": 0.082136,
     "end_time": "2020-11-07T01:53:47.390491",
     "exception": false,
     "start_time": "2020-11-07T01:53:47.308355",
     "status": "completed"
    },
    "tags": []
   },
   "source": [
    "#### Резюме по численным признакам:\n",
    "\n",
    "После построения гистограмм стало очевидно, что распределения почти всех числовых переменных имеют тяжёлый правый хвост. \n",
    "\n",
    "**age**: Распределение логнормальное, выбросов по квартилям нет. Признак будем использовать, как есть.\n",
    "\n",
    "**decline_app_cnt**: Распределение логнормальное, выбросов очень много. Возьмём логарифм, чтобы избежать чувствительности к сильным отклонениям. Выбросы удалять пока не будем. Возможно это потребуется для улучшения модели.\n",
    "\n",
    "**score_bki**: Распределение нормальное. Выбросов не много, удалять не будем.\n",
    "\n",
    "**bki_request_cnt**: Распределение логнормальное, выбросов не много, удалять не будем. Возьмём логарифм, чтобы сделать распределение более нормальным.\n",
    "\n",
    "**income**: Распределение логнормальное, выбросов очень много, удалять их пока не будем. Возьмём логарифм. К вопросу об удалении выбросов вернемся после построения модели при необходимости."
   ]
  },
  {
   "cell_type": "code",
   "execution_count": null,
   "metadata": {
    "execution": {
     "iopub.execute_input": "2020-11-07T01:53:47.560431Z",
     "iopub.status.busy": "2020-11-07T01:53:47.559329Z",
     "iopub.status.idle": "2020-11-07T01:53:47.585964Z",
     "shell.execute_reply": "2020-11-07T01:53:47.585338Z"
    },
    "papermill": {
     "duration": 0.115384,
     "end_time": "2020-11-07T01:53:47.586099",
     "exception": false,
     "start_time": "2020-11-07T01:53:47.470715",
     "status": "completed"
    },
    "tags": []
   },
   "outputs": [],
   "source": [
    "# логорифмируем \"плохие\" показатели\n",
    "for i in ['decline_app_cnt', 'bki_request_cnt', 'income']:\n",
    "    data[i] = np.log(data[i] + 1)\n",
    "   "
   ]
  },
  {
   "cell_type": "code",
   "execution_count": null,
   "metadata": {
    "execution": {
     "iopub.execute_input": "2020-11-07T01:53:47.758048Z",
     "iopub.status.busy": "2020-11-07T01:53:47.756803Z",
     "iopub.status.idle": "2020-11-07T01:53:49.162673Z",
     "shell.execute_reply": "2020-11-07T01:53:49.161889Z"
    },
    "papermill": {
     "duration": 1.49543,
     "end_time": "2020-11-07T01:53:49.162804",
     "exception": false,
     "start_time": "2020-11-07T01:53:47.667374",
     "status": "completed"
    },
    "tags": []
   },
   "outputs": [],
   "source": [
    "# построим повторно графики для скорректированных показателей\n",
    "for i in ['decline_app_cnt', 'bki_request_cnt', 'income']:\n",
    "    plt.figure()\n",
    "    sns.distplot(data[i][data[i] > 0].dropna(), kde = False, rug=False)\n",
    "    plt.title(i)\n",
    "    plt.show()"
   ]
  },
  {
   "cell_type": "markdown",
   "metadata": {
    "papermill": {
     "duration": 0.083492,
     "end_time": "2020-11-07T01:53:49.329205",
     "exception": false,
     "start_time": "2020-11-07T01:53:49.245713",
     "status": "completed"
    },
    "tags": []
   },
   "source": [
    "Признак ***income*** стал менее смещённым. Выбросов стало меньше во всех скорректированных признаках. Однако признаки ***decline_app_cnt*** и ***bki_request_cnt*** требуют дополнительного анализа."
   ]
  },
  {
   "cell_type": "markdown",
   "metadata": {
    "papermill": {
     "duration": 0.128533,
     "end_time": "2020-11-07T01:53:49.540696",
     "exception": false,
     "start_time": "2020-11-07T01:53:49.412163",
     "status": "completed"
    },
    "tags": []
   },
   "source": [
    "### 5.2 Преобразование временного ряда.\n"
   ]
  },
  {
   "cell_type": "code",
   "execution_count": null,
   "metadata": {
    "execution": {
     "iopub.execute_input": "2020-11-07T01:53:49.723244Z",
     "iopub.status.busy": "2020-11-07T01:53:49.722235Z",
     "iopub.status.idle": "2020-11-07T01:53:49.770772Z",
     "shell.execute_reply": "2020-11-07T01:53:49.770017Z"
    },
    "papermill": {
     "duration": 0.14571,
     "end_time": "2020-11-07T01:53:49.770893",
     "exception": false,
     "start_time": "2020-11-07T01:53:49.625183",
     "status": "completed"
    },
    "tags": []
   },
   "outputs": [],
   "source": [
    "data['app_date'] = pd.to_datetime(data['app_date'], format='%d%b%Y')\n",
    "data.head(3)"
   ]
  },
  {
   "cell_type": "code",
   "execution_count": null,
   "metadata": {
    "execution": {
     "iopub.execute_input": "2020-11-07T01:53:49.946127Z",
     "iopub.status.busy": "2020-11-07T01:53:49.945353Z",
     "iopub.status.idle": "2020-11-07T01:53:49.953058Z",
     "shell.execute_reply": "2020-11-07T01:53:49.952458Z"
    },
    "papermill": {
     "duration": 0.097937,
     "end_time": "2020-11-07T01:53:49.953189",
     "exception": false,
     "start_time": "2020-11-07T01:53:49.855252",
     "status": "completed"
    },
    "tags": []
   },
   "outputs": [],
   "source": [
    "# проверим начало и конец периода нашего датасета \n",
    "start = data.app_date.min()\n",
    "end = data.app_date.max()\n",
    "start, end"
   ]
  },
  {
   "cell_type": "markdown",
   "metadata": {
    "papermill": {
     "duration": 0.083772,
     "end_time": "2020-11-07T01:53:50.121713",
     "exception": false,
     "start_time": "2020-11-07T01:53:50.037941",
     "status": "completed"
    },
    "tags": []
   },
   "source": [
    "Представленный датасет охватывает период с 1 января по 30 апреля 2014 года. Можно создать дополнительный численный признак, отражающий количество дней от старта датасета до конкретной записи. Это необходимо сделать, т.к. собственно сам временной ряд необходимо будет позже исключить из датасета перед построением модели."
   ]
  },
  {
   "cell_type": "code",
   "execution_count": null,
   "metadata": {
    "execution": {
     "iopub.execute_input": "2020-11-07T01:53:50.298290Z",
     "iopub.status.busy": "2020-11-07T01:53:50.297550Z",
     "iopub.status.idle": "2020-11-07T01:53:50.306575Z",
     "shell.execute_reply": "2020-11-07T01:53:50.307370Z"
    },
    "papermill": {
     "duration": 0.100597,
     "end_time": "2020-11-07T01:53:50.307549",
     "exception": false,
     "start_time": "2020-11-07T01:53:50.206952",
     "status": "completed"
    },
    "tags": []
   },
   "outputs": [],
   "source": [
    "data['app_date_delta'] = (data.app_date - start).dt.days.astype('int')"
   ]
  },
  {
   "cell_type": "code",
   "execution_count": null,
   "metadata": {
    "execution": {
     "iopub.execute_input": "2020-11-07T01:53:50.486840Z",
     "iopub.status.busy": "2020-11-07T01:53:50.486005Z",
     "iopub.status.idle": "2020-11-07T01:53:50.830339Z",
     "shell.execute_reply": "2020-11-07T01:53:50.829603Z"
    },
    "papermill": {
     "duration": 0.435426,
     "end_time": "2020-11-07T01:53:50.830464",
     "exception": false,
     "start_time": "2020-11-07T01:53:50.395038",
     "status": "completed"
    },
    "tags": []
   },
   "outputs": [],
   "source": [
    "# проверим количество дефолтов в течение срока, отражённого в представленном датасете\n",
    "data_temp = data.loc[data['sample'] == 1] \n",
    "data_temp[['default'] + ['app_date_delta']].groupby('app_date_delta').sum().plot()"
   ]
  },
  {
   "cell_type": "markdown",
   "metadata": {
    "papermill": {
     "duration": 0.088332,
     "end_time": "2020-11-07T01:53:51.007098",
     "exception": false,
     "start_time": "2020-11-07T01:53:50.918766",
     "status": "completed"
    },
    "tags": []
   },
   "source": [
    "#### **ВАЖНО!** \n",
    "Количество дефолтов с ориентировочно 90 дня от начала датасета начало снижаться. Предположительно, были введены некие заградительные меры от выдачи рискованных кридетов и, очевидно, что это необходимо будет учитывать при построении модели, т.к. её поведение неоднородно в течение анализируемого периода."
   ]
  },
  {
   "cell_type": "code",
   "execution_count": null,
   "metadata": {
    "execution": {
     "iopub.execute_input": "2020-11-07T01:53:51.200527Z",
     "iopub.status.busy": "2020-11-07T01:53:51.194434Z",
     "iopub.status.idle": "2020-11-07T01:53:51.212041Z",
     "shell.execute_reply": "2020-11-07T01:53:51.211239Z"
    },
    "papermill": {
     "duration": 0.116758,
     "end_time": "2020-11-07T01:53:51.212176",
     "exception": false,
     "start_time": "2020-11-07T01:53:51.095418",
     "status": "completed"
    },
    "tags": []
   },
   "outputs": [],
   "source": [
    "# добавление нового признака в список числовых признаков\n",
    "num_cols.append('app_date_delta')\n",
    "\n",
    "# удаление временного ряда из датасета\n",
    "data.drop(['app_date'], axis=1, inplace=True)"
   ]
  },
  {
   "cell_type": "markdown",
   "metadata": {
    "papermill": {
     "duration": 0.087498,
     "end_time": "2020-11-07T01:53:51.388626",
     "exception": false,
     "start_time": "2020-11-07T01:53:51.301128",
     "status": "completed"
    },
    "tags": []
   },
   "source": [
    "### 5.3 Оценка значимости непрерывных переменных."
   ]
  },
  {
   "cell_type": "code",
   "execution_count": null,
   "metadata": {
    "execution": {
     "iopub.execute_input": "2020-11-07T01:53:51.571543Z",
     "iopub.status.busy": "2020-11-07T01:53:51.570757Z",
     "iopub.status.idle": "2020-11-07T01:53:51.856895Z",
     "shell.execute_reply": "2020-11-07T01:53:51.856278Z"
    },
    "papermill": {
     "duration": 0.382371,
     "end_time": "2020-11-07T01:53:51.857027",
     "exception": false,
     "start_time": "2020-11-07T01:53:51.474656",
     "status": "completed"
    },
    "tags": []
   },
   "outputs": [],
   "source": [
    "imp_num = Series(f_classif(data_temp[num_cols], data_temp['default'])[0], index = num_cols)\n",
    "imp_num.sort_values(inplace = True)\n",
    "imp_num.plot(kind = 'barh')"
   ]
  },
  {
   "cell_type": "markdown",
   "metadata": {
    "papermill": {
     "duration": 0.086939,
     "end_time": "2020-11-07T01:53:52.032496",
     "exception": false,
     "start_time": "2020-11-07T01:53:51.945557",
     "status": "completed"
    },
    "tags": []
   },
   "source": [
    "#### Резюме по оценке значимости числовых переменных:\n",
    "Скорринговый балл БКИ (**score_bki**) является самым значимым показателем согласно однофакторного дисперсионного анализа, менее значимым является кол-во отказанных ранее заявок (**declain_app_cnt**). Остальные признаки не оказывают существенного влияния на целевой показатель. Признак decline_app_cnt имеет очень большое количество выбросов и \"плохое\" распределения для модели. Нужно будет провести дополнительную работу."
   ]
  },
  {
   "cell_type": "markdown",
   "metadata": {
    "papermill": {
     "duration": 0.088389,
     "end_time": "2020-11-07T01:53:52.209076",
     "exception": false,
     "start_time": "2020-11-07T01:53:52.120687",
     "status": "completed"
    },
    "tags": []
   },
   "source": [
    "### 5.4 Категориальные и бинарные признаки:"
   ]
  },
  {
   "cell_type": "markdown",
   "metadata": {
    "papermill": {
     "duration": 0.089219,
     "end_time": "2020-11-07T01:53:52.387219",
     "exception": false,
     "start_time": "2020-11-07T01:53:52.298000",
     "status": "completed"
    },
    "tags": []
   },
   "source": [
    "В ходе предварительного анализа данных было выявлено наличие пропусков только в одном признаке - **education**. \n",
    "Устраним эти пропуски, заполним значением IDK (неизвестно).   \n",
    "Кроме того, имеется информация, что категории в данном признаке имеют следующие значение:\n",
    "* SCH    (школа)\n",
    "* GRD    (бакалавр)\n",
    "* UGR    (кандидат в бакалавры)\n",
    "* PGR    (магистр)\n",
    "* ACD    (академик)"
   ]
  },
  {
   "cell_type": "code",
   "execution_count": null,
   "metadata": {
    "execution": {
     "iopub.execute_input": "2020-11-07T01:53:52.581831Z",
     "iopub.status.busy": "2020-11-07T01:53:52.580210Z",
     "iopub.status.idle": "2020-11-07T01:53:52.584845Z",
     "shell.execute_reply": "2020-11-07T01:53:52.585460Z"
    },
    "papermill": {
     "duration": 0.110058,
     "end_time": "2020-11-07T01:53:52.585618",
     "exception": false,
     "start_time": "2020-11-07T01:53:52.475560",
     "status": "completed"
    },
    "tags": []
   },
   "outputs": [],
   "source": [
    "data.education.fillna('IDK', inplace=True)   "
   ]
  },
  {
   "cell_type": "code",
   "execution_count": null,
   "metadata": {
    "execution": {
     "iopub.execute_input": "2020-11-07T01:53:52.803402Z",
     "iopub.status.busy": "2020-11-07T01:53:52.800214Z",
     "iopub.status.idle": "2020-11-07T01:53:52.808240Z",
     "shell.execute_reply": "2020-11-07T01:53:52.807511Z"
    },
    "papermill": {
     "duration": 0.129925,
     "end_time": "2020-11-07T01:53:52.808382",
     "exception": false,
     "start_time": "2020-11-07T01:53:52.678457",
     "status": "completed"
    },
    "tags": []
   },
   "outputs": [],
   "source": [
    "data.education.value_counts()"
   ]
  },
  {
   "cell_type": "code",
   "execution_count": null,
   "metadata": {
    "execution": {
     "iopub.execute_input": "2020-11-07T01:53:53.000867Z",
     "iopub.status.busy": "2020-11-07T01:53:53.000031Z",
     "iopub.status.idle": "2020-11-07T01:53:53.375195Z",
     "shell.execute_reply": "2020-11-07T01:53:53.374466Z"
    },
    "papermill": {
     "duration": 0.477434,
     "end_time": "2020-11-07T01:53:53.375335",
     "exception": false,
     "start_time": "2020-11-07T01:53:52.897901",
     "status": "completed"
    },
    "tags": []
   },
   "outputs": [],
   "source": [
    "# оценим их распределение визуально\n",
    "sns.boxplot(x=\"age\", y=\"education\", data=data, whis=[0, 100], width=.6, palette=\"vlag\")"
   ]
  },
  {
   "cell_type": "markdown",
   "metadata": {
    "papermill": {
     "duration": 0.089838,
     "end_time": "2020-11-07T01:53:53.555264",
     "exception": false,
     "start_time": "2020-11-07T01:53:53.465426",
     "status": "completed"
    },
    "tags": []
   },
   "source": [
    "Очевидно, что пропущенные значения (отмечены IDK) распределены почти аналогично с клиентами, имеющими только базовое образование. \n",
    "Преобразовать признак \"education\" в числовой формат можно с помощью LabelEncoder, но  тогда будет потерян вес образования, который, возможно, имеет влияние на целевую переменную.\n",
    "Поэтому, предлагается провести преобразование с помощью словаря, назначив \"веса\" различным типам образования.\n",
    "    "
   ]
  },
  {
   "cell_type": "code",
   "execution_count": null,
   "metadata": {
    "execution": {
     "iopub.execute_input": "2020-11-07T01:53:53.755268Z",
     "iopub.status.busy": "2020-11-07T01:53:53.754500Z",
     "iopub.status.idle": "2020-11-07T01:53:53.863900Z",
     "shell.execute_reply": "2020-11-07T01:53:53.863238Z"
    },
    "papermill": {
     "duration": 0.218221,
     "end_time": "2020-11-07T01:53:53.864034",
     "exception": false,
     "start_time": "2020-11-07T01:53:53.645813",
     "status": "completed"
    },
    "tags": []
   },
   "outputs": [],
   "source": [
    "data.education = data.education.replace({'IDK': 0, 'SCH': 1, 'UGR': 2, 'GRD': 3, 'PGR': 4, 'ACD': 5})"
   ]
  },
  {
   "cell_type": "code",
   "execution_count": null,
   "metadata": {
    "execution": {
     "iopub.execute_input": "2020-11-07T01:53:54.056151Z",
     "iopub.status.busy": "2020-11-07T01:53:54.055029Z",
     "iopub.status.idle": "2020-11-07T01:53:54.230957Z",
     "shell.execute_reply": "2020-11-07T01:53:54.230303Z"
    },
    "papermill": {
     "duration": 0.27666,
     "end_time": "2020-11-07T01:53:54.231087",
     "exception": false,
     "start_time": "2020-11-07T01:53:53.954427",
     "status": "completed"
    },
    "tags": []
   },
   "outputs": [],
   "source": [
    "# перевод бинарных признаков в числовой формат\n",
    "\n",
    "label_encoder = LabelEncoder()\n",
    "\n",
    "for col in bin_cols:\n",
    "    data[col] = label_encoder.fit_transform(data[col])"
   ]
  },
  {
   "cell_type": "code",
   "execution_count": null,
   "metadata": {
    "execution": {
     "iopub.execute_input": "2020-11-07T01:53:54.420916Z",
     "iopub.status.busy": "2020-11-07T01:53:54.417713Z",
     "iopub.status.idle": "2020-11-07T01:53:54.455938Z",
     "shell.execute_reply": "2020-11-07T01:53:54.456531Z"
    },
    "papermill": {
     "duration": 0.134633,
     "end_time": "2020-11-07T01:53:54.456707",
     "exception": false,
     "start_time": "2020-11-07T01:53:54.322074",
     "status": "completed"
    },
    "tags": []
   },
   "outputs": [],
   "source": [
    "data.sample(3)"
   ]
  },
  {
   "cell_type": "markdown",
   "metadata": {
    "papermill": {
     "duration": 0.091855,
     "end_time": "2020-11-07T01:53:54.639928",
     "exception": false,
     "start_time": "2020-11-07T01:53:54.548073",
     "status": "completed"
    },
    "tags": []
   },
   "source": [
    "### 5.5 Оценка значимости категориальных и бинарных переменных."
   ]
  },
  {
   "cell_type": "code",
   "execution_count": null,
   "metadata": {
    "execution": {
     "iopub.execute_input": "2020-11-07T01:53:54.830116Z",
     "iopub.status.busy": "2020-11-07T01:53:54.829297Z",
     "iopub.status.idle": "2020-11-07T01:53:55.305543Z",
     "shell.execute_reply": "2020-11-07T01:53:55.304785Z"
    },
    "papermill": {
     "duration": 0.574566,
     "end_time": "2020-11-07T01:53:55.305677",
     "exception": false,
     "start_time": "2020-11-07T01:53:54.731111",
     "status": "completed"
    },
    "tags": []
   },
   "outputs": [],
   "source": [
    "# для бинарных и категориальных признаков (переведенных в числа)\n",
    "data_temp = data.loc[data['sample'] == 1]\n",
    "imp_cat = Series(mutual_info_classif(data_temp[bin_cols + cat_cols], data_temp['default'],\n",
    "                                     discrete_features =True), index = bin_cols + cat_cols)\n",
    "imp_cat.sort_values(inplace = True)\n",
    "imp_cat.plot(kind = 'barh')"
   ]
  },
  {
   "cell_type": "markdown",
   "metadata": {
    "papermill": {
     "duration": 0.097559,
     "end_time": "2020-11-07T01:53:55.498715",
     "exception": false,
     "start_time": "2020-11-07T01:53:55.401156",
     "status": "completed"
    },
    "tags": []
   },
   "source": [
    "#### Резюме по оценке значимости категориальных и бинарных переменных:\n",
    "Самым значимым признаком по Mutual information тесту является связь заемщика с клиентами банка (**sna**). Далее, давность наличия информации о заемщике (**first_time**), а затем, практически с одинаковым значением, идет рейтинг региона (**region_rating**) и категоризатор домашнего адреса (**home_address**). Ещё одним достаточно значимым для модели признаком явялется уровень образования клиента (**education**)"
   ]
  },
  {
   "cell_type": "markdown",
   "metadata": {
    "papermill": {
     "duration": 0.094947,
     "end_time": "2020-11-07T01:53:55.686207",
     "exception": false,
     "start_time": "2020-11-07T01:53:55.591260",
     "status": "completed"
    },
    "tags": []
   },
   "source": [
    "## 6. Подготовка данных к машинному обучению."
   ]
  },
  {
   "cell_type": "markdown",
   "metadata": {
    "papermill": {
     "duration": 0.092759,
     "end_time": "2020-11-07T01:53:55.871540",
     "exception": false,
     "start_time": "2020-11-07T01:53:55.778781",
     "status": "completed"
    },
    "tags": []
   },
   "source": [
    "### Определение дисбаланса классов"
   ]
  },
  {
   "cell_type": "code",
   "execution_count": null,
   "metadata": {
    "execution": {
     "iopub.execute_input": "2020-11-07T01:53:56.063173Z",
     "iopub.status.busy": "2020-11-07T01:53:56.062369Z",
     "iopub.status.idle": "2020-11-07T01:53:56.214986Z",
     "shell.execute_reply": "2020-11-07T01:53:56.214171Z"
    },
    "papermill": {
     "duration": 0.250969,
     "end_time": "2020-11-07T01:53:56.215117",
     "exception": false,
     "start_time": "2020-11-07T01:53:55.964148",
     "status": "completed"
    },
    "tags": []
   },
   "outputs": [],
   "source": [
    "sns.countplot(data_temp['default'])"
   ]
  },
  {
   "cell_type": "code",
   "execution_count": null,
   "metadata": {
    "execution": {
     "iopub.execute_input": "2020-11-07T01:53:56.409958Z",
     "iopub.status.busy": "2020-11-07T01:53:56.409191Z",
     "iopub.status.idle": "2020-11-07T01:53:56.416271Z",
     "shell.execute_reply": "2020-11-07T01:53:56.415673Z"
    },
    "papermill": {
     "duration": 0.107091,
     "end_time": "2020-11-07T01:53:56.416420",
     "exception": false,
     "start_time": "2020-11-07T01:53:56.309329",
     "status": "completed"
    },
    "tags": []
   },
   "outputs": [],
   "source": [
    "data_temp['default'].value_counts()"
   ]
  },
  {
   "cell_type": "markdown",
   "metadata": {
    "papermill": {
     "duration": 0.094684,
     "end_time": "2020-11-07T01:53:56.605912",
     "exception": false,
     "start_time": "2020-11-07T01:53:56.511228",
     "status": "completed"
    },
    "tags": []
   },
   "source": [
    "Несмотря на значительное различие по количеству дефолтных и надёжных клиентов, явного дисбаланса классов нет. Согласно теории, когда мы используем вероятностные модели для бинарной классификации, во время обучения модели не сильно зависят от баланса классов, а при тестировании будет использоваться метрика ROC_AUC, обладающая низкой чувствительностью к балансу классов. "
   ]
  },
  {
   "cell_type": "markdown",
   "metadata": {
    "papermill": {
     "duration": 0.094729,
     "end_time": "2020-11-07T01:53:56.796625",
     "exception": false,
     "start_time": "2020-11-07T01:53:56.701896",
     "status": "completed"
    },
    "tags": []
   },
   "source": [
    "### Применение dummy-кодированием для категориальных переменных"
   ]
  },
  {
   "cell_type": "code",
   "execution_count": null,
   "metadata": {
    "execution": {
     "iopub.execute_input": "2020-11-07T01:53:57.000333Z",
     "iopub.status.busy": "2020-11-07T01:53:56.999593Z",
     "iopub.status.idle": "2020-11-07T01:53:57.025611Z",
     "shell.execute_reply": "2020-11-07T01:53:57.024887Z"
    },
    "papermill": {
     "duration": 0.132936,
     "end_time": "2020-11-07T01:53:57.025737",
     "exception": false,
     "start_time": "2020-11-07T01:53:56.892801",
     "status": "completed"
    },
    "tags": []
   },
   "outputs": [],
   "source": [
    "data = pd.get_dummies(data, prefix=cat_cols, columns=cat_cols)"
   ]
  },
  {
   "cell_type": "markdown",
   "metadata": {
    "papermill": {
     "duration": 0.102572,
     "end_time": "2020-11-07T01:53:57.223352",
     "exception": false,
     "start_time": "2020-11-07T01:53:57.120780",
     "status": "completed"
    },
    "tags": []
   },
   "source": [
    "### Стандартизация числовых признаков"
   ]
  },
  {
   "cell_type": "code",
   "execution_count": null,
   "metadata": {
    "execution": {
     "iopub.execute_input": "2020-11-07T01:53:57.441889Z",
     "iopub.status.busy": "2020-11-07T01:53:57.439646Z",
     "iopub.status.idle": "2020-11-07T01:53:57.479592Z",
     "shell.execute_reply": "2020-11-07T01:53:57.478961Z"
    },
    "papermill": {
     "duration": 0.146445,
     "end_time": "2020-11-07T01:53:57.479738",
     "exception": false,
     "start_time": "2020-11-07T01:53:57.333293",
     "status": "completed"
    },
    "tags": []
   },
   "outputs": [],
   "source": [
    "data[num_cols] = pd.DataFrame(StandardScaler().fit_transform(data[num_cols]), columns = data[num_cols].columns)"
   ]
  },
  {
   "cell_type": "markdown",
   "metadata": {
    "papermill": {
     "duration": 0.095892,
     "end_time": "2020-11-07T01:53:57.672183",
     "exception": false,
     "start_time": "2020-11-07T01:53:57.576291",
     "status": "completed"
    },
    "tags": []
   },
   "source": [
    "### Верификация случайных строк датасета"
   ]
  },
  {
   "cell_type": "code",
   "execution_count": null,
   "metadata": {
    "execution": {
     "iopub.execute_input": "2020-11-07T01:53:57.870658Z",
     "iopub.status.busy": "2020-11-07T01:53:57.867225Z",
     "iopub.status.idle": "2020-11-07T01:53:57.900708Z",
     "shell.execute_reply": "2020-11-07T01:53:57.900065Z"
    },
    "papermill": {
     "duration": 0.133802,
     "end_time": "2020-11-07T01:53:57.900847",
     "exception": false,
     "start_time": "2020-11-07T01:53:57.767045",
     "status": "completed"
    },
    "tags": []
   },
   "outputs": [],
   "source": [
    "display(data.sample(2))"
   ]
  },
  {
   "cell_type": "markdown",
   "metadata": {
    "papermill": {
     "duration": 0.097954,
     "end_time": "2020-11-07T01:53:58.097684",
     "exception": false,
     "start_time": "2020-11-07T01:53:57.999730",
     "status": "completed"
    },
    "tags": []
   },
   "source": [
    "### Выделение тренировочной и тестовой частей датасета"
   ]
  },
  {
   "cell_type": "code",
   "execution_count": null,
   "metadata": {
    "execution": {
     "iopub.execute_input": "2020-11-07T01:53:58.321730Z",
     "iopub.status.busy": "2020-11-07T01:53:58.320916Z",
     "iopub.status.idle": "2020-11-07T01:53:58.354175Z",
     "shell.execute_reply": "2020-11-07T01:53:58.354764Z"
    },
    "papermill": {
     "duration": 0.148865,
     "end_time": "2020-11-07T01:53:58.354936",
     "exception": false,
     "start_time": "2020-11-07T01:53:58.206071",
     "status": "completed"
    },
    "tags": []
   },
   "outputs": [],
   "source": [
    "train_data = data.query('sample == 1').drop(['sample'], axis=1)\n",
    "test_data = data.query('sample == 0').drop(['sample'], axis=1)\n",
    "\n",
    "# y = train_data.default.values            # наш таргет\n",
    "# X = train_data.drop(['default'], axis=1)"
   ]
  },
  {
   "cell_type": "markdown",
   "metadata": {
    "papermill": {
     "duration": 0.118004,
     "end_time": "2020-11-07T01:53:58.576557",
     "exception": false,
     "start_time": "2020-11-07T01:53:58.458553",
     "status": "completed"
    },
    "tags": []
   },
   "source": [
    "## 7. Построение модели\n",
    "\n",
    "### Разбиение тренировочного датасета на тренировочную и валидационную части\n"
   ]
  },
  {
   "cell_type": "code",
   "execution_count": null,
   "metadata": {
    "execution": {
     "iopub.execute_input": "2020-11-07T01:53:58.779636Z",
     "iopub.status.busy": "2020-11-07T01:53:58.778508Z",
     "iopub.status.idle": "2020-11-07T01:53:58.800041Z",
     "shell.execute_reply": "2020-11-07T01:53:58.799408Z"
    },
    "papermill": {
     "duration": 0.126507,
     "end_time": "2020-11-07T01:53:58.800192",
     "exception": false,
     "start_time": "2020-11-07T01:53:58.673685",
     "status": "completed"
    },
    "tags": []
   },
   "outputs": [],
   "source": [
    "X_train, X_test, y_train, y_test = split(train_data)"
   ]
  },
  {
   "cell_type": "code",
   "execution_count": null,
   "metadata": {
    "execution": {
     "iopub.execute_input": "2020-11-07T01:53:59.000716Z",
     "iopub.status.busy": "2020-11-07T01:53:58.999714Z",
     "iopub.status.idle": "2020-11-07T01:53:59.003219Z",
     "shell.execute_reply": "2020-11-07T01:53:59.003757Z"
    },
    "papermill": {
     "duration": 0.106958,
     "end_time": "2020-11-07T01:53:59.003914",
     "exception": false,
     "start_time": "2020-11-07T01:53:58.896956",
     "status": "completed"
    },
    "tags": []
   },
   "outputs": [],
   "source": [
    "# проверяем\n",
    "test_data.shape, train_data.shape, X_train.shape, X_test.shape"
   ]
  },
  {
   "cell_type": "markdown",
   "metadata": {
    "papermill": {
     "duration": 0.098035,
     "end_time": "2020-11-07T01:53:59.198967",
     "exception": false,
     "start_time": "2020-11-07T01:53:59.100932",
     "status": "completed"
    },
    "tags": []
   },
   "source": [
    "### Обучаем модель, генерируем результат и сравниваем с тестом"
   ]
  },
  {
   "cell_type": "code",
   "execution_count": null,
   "metadata": {
    "execution": {
     "iopub.execute_input": "2020-11-07T01:53:59.404490Z",
     "iopub.status.busy": "2020-11-07T01:53:59.403674Z",
     "iopub.status.idle": "2020-11-07T01:54:00.211522Z",
     "shell.execute_reply": "2020-11-07T01:54:00.210882Z"
    },
    "papermill": {
     "duration": 0.914295,
     "end_time": "2020-11-07T01:54:00.211662",
     "exception": false,
     "start_time": "2020-11-07T01:53:59.297367",
     "status": "completed"
    },
    "tags": []
   },
   "outputs": [],
   "source": [
    "model = LogisticRegression(random_state=RANDOM_SEED)\n",
    "\n",
    "model.fit(X_train, y_train)\n",
    "\n",
    "y_pred_prob = model.predict_proba(X_test)[:,1]\n",
    "y_pred = model.predict(X_test)"
   ]
  },
  {
   "cell_type": "code",
   "execution_count": null,
   "metadata": {
    "execution": {
     "iopub.execute_input": "2020-11-07T01:54:00.416075Z",
     "iopub.status.busy": "2020-11-07T01:54:00.415228Z",
     "iopub.status.idle": "2020-11-07T01:54:01.247591Z",
     "shell.execute_reply": "2020-11-07T01:54:01.246954Z"
    },
    "papermill": {
     "duration": 0.936767,
     "end_time": "2020-11-07T01:54:01.247719",
     "exception": false,
     "start_time": "2020-11-07T01:54:00.310952",
     "status": "completed"
    },
    "tags": []
   },
   "outputs": [],
   "source": [
    "all_metrics(y_test, y_pred, y_pred_prob)\n",
    "show_roc_curve(model)\n",
    "show_confusion_matrix(model)"
   ]
  },
  {
   "cell_type": "markdown",
   "metadata": {
    "papermill": {
     "duration": 0.101222,
     "end_time": "2020-11-07T01:54:01.451609",
     "exception": false,
     "start_time": "2020-11-07T01:54:01.350387",
     "status": "completed"
    },
    "tags": []
   },
   "source": [
    "### Выводы по результатам работы первой модели\n",
    "\n",
    "Несмотря на относительно высокий показатель ROC_AUC, модель показывает абсолютно неудовлетворительную работу. Об этом свидетельствует очень низкий показатель количества правильных предсказаний от всего класса истинных значений (Recall). Т.о. велика вероятность дефолта по выданным кредитам и прямая потеря банком ресурсов. "
   ]
  },
  {
   "cell_type": "markdown",
   "metadata": {
    "papermill": {
     "duration": 0.101714,
     "end_time": "2020-11-07T01:54:01.654486",
     "exception": false,
     "start_time": "2020-11-07T01:54:01.552772",
     "status": "completed"
    },
    "tags": []
   },
   "source": [
    "### Поиск оптимальных параметров модели"
   ]
  },
  {
   "cell_type": "code",
   "execution_count": null,
   "metadata": {
    "execution": {
     "iopub.execute_input": "2020-11-07T01:54:01.875339Z",
     "iopub.status.busy": "2020-11-07T01:54:01.874485Z",
     "iopub.status.idle": "2020-11-07T01:55:23.494775Z",
     "shell.execute_reply": "2020-11-07T01:55:23.495511Z"
    },
    "papermill": {
     "duration": 81.736932,
     "end_time": "2020-11-07T01:55:23.495703",
     "exception": false,
     "start_time": "2020-11-07T01:54:01.758771",
     "status": "completed"
    },
    "tags": []
   },
   "outputs": [],
   "source": [
    "# best practice by @Анна Нохрина\n",
    "# запускаем GridSearch на небольшом кол-ве итераций max_iter=50 и с достаточно большой дельтой останова tol1e-3\n",
    "# чтобы получить оптимальные параметры модели в первом приближении\n",
    "model = LogisticRegression(random_state=RANDOM_SEED)\n",
    "\n",
    "iter_ = 50\n",
    "epsilon_stop = 1e-3\n",
    "\n",
    "param_grid = [\n",
    "    {'penalty': ['l1'], \n",
    "     'solver': ['liblinear', 'lbfgs'], \n",
    "     'class_weight':['none', 'balanced'], \n",
    "     'multi_class': ['auto','ovr'], \n",
    "     'max_iter':[iter_],\n",
    "     'tol':[epsilon_stop]},\n",
    "    {'penalty': ['l2'], \n",
    "     'solver': ['newton-cg', 'lbfgs', 'liblinear', 'sag', 'saga'], \n",
    "     'class_weight':['none', 'balanced'], \n",
    "     'multi_class': ['auto','ovr'], \n",
    "     'max_iter':[iter_],\n",
    "     'tol':[epsilon_stop]},\n",
    "    {'penalty': ['none'], \n",
    "     'solver': ['newton-cg', 'lbfgs', 'sag', 'saga'], \n",
    "     'class_weight':['none', 'balanced'], \n",
    "     'multi_class': ['auto','ovr'], \n",
    "     'max_iter':[iter_],\n",
    "     'tol':[epsilon_stop]},\n",
    "]\n",
    "gridsearch = GridSearchCV(model, param_grid, scoring='f1', n_jobs=-1, cv=5)\n",
    "gridsearch.fit(X_train, y_train)\n",
    "modelbest = gridsearch.best_estimator_\n",
    "\n",
    "# вывод параметров\n",
    "best_parameters = modelbest.get_params()\n",
    "for param_name in sorted(best_parameters.keys()):\n",
    "    print('\\t%s = %r' % (param_name, best_parameters[param_name]))\n",
    "   "
   ]
  },
  {
   "cell_type": "code",
   "execution_count": null,
   "metadata": {
    "execution": {
     "iopub.execute_input": "2020-11-07T01:55:23.736914Z",
     "iopub.status.busy": "2020-11-07T01:55:23.735821Z",
     "iopub.status.idle": "2020-11-07T01:55:23.769473Z",
     "shell.execute_reply": "2020-11-07T01:55:23.768543Z"
    },
    "papermill": {
     "duration": 0.170023,
     "end_time": "2020-11-07T01:55:23.769666",
     "exception": false,
     "start_time": "2020-11-07T01:55:23.599643",
     "status": "completed"
    },
    "tags": []
   },
   "outputs": [],
   "source": [
    "# печатаем метрики\n",
    "preds = modelbest.predict(X_test)\n",
    "print('Accuracy: %.4f' % accuracy_score(y_test, preds))\n",
    "print('Precision: %.4f' % precision_score(y_test, preds))\n",
    "print('Recall: %.4f' % recall_score(y_test, preds))\n",
    "print('F1: %.4f' % f1_score(y_test, preds))"
   ]
  },
  {
   "cell_type": "markdown",
   "metadata": {
    "papermill": {
     "duration": 0.133122,
     "end_time": "2020-11-07T01:55:24.048269",
     "exception": false,
     "start_time": "2020-11-07T01:55:23.915147",
     "status": "completed"
    },
    "tags": []
   },
   "source": [
    "#### Резюме:\n",
    "Полученный результат показывает значительный рост метрик полноты и f1_score.\n",
    "Есть надежда, что модель будет работать лучше.\n"
   ]
  },
  {
   "cell_type": "markdown",
   "metadata": {
    "papermill": {
     "duration": 0.105659,
     "end_time": "2020-11-07T01:55:24.262673",
     "exception": false,
     "start_time": "2020-11-07T01:55:24.157014",
     "status": "completed"
    },
    "tags": []
   },
   "source": [
    "### Построение модели после первой оптимизации"
   ]
  },
  {
   "cell_type": "code",
   "execution_count": null,
   "metadata": {
    "execution": {
     "iopub.execute_input": "2020-11-07T01:55:24.484451Z",
     "iopub.status.busy": "2020-11-07T01:55:24.482106Z",
     "iopub.status.idle": "2020-11-07T01:55:29.361129Z",
     "shell.execute_reply": "2020-11-07T01:55:29.360397Z"
    },
    "papermill": {
     "duration": 4.994628,
     "end_time": "2020-11-07T01:55:29.361300",
     "exception": false,
     "start_time": "2020-11-07T01:55:24.366672",
     "status": "completed"
    },
    "tags": []
   },
   "outputs": [],
   "source": [
    "model_2 = LogisticRegression(random_state=RANDOM_SEED, \n",
    "                           C=1, \n",
    "                           class_weight = 'balanced', \n",
    "                           dual = False, \n",
    "                           fit_intercept = True, \n",
    "                           intercept_scaling = 1, \n",
    "                           l1_ratio = None, \n",
    "                           multi_class = 'auto', \n",
    "                           n_jobs = None, \n",
    "                           penalty = 'l1', \n",
    "                           solver = 'liblinear', \n",
    "                           tol = 0.001, \n",
    "                           verbose = 0, \n",
    "                           warm_start = False)\n",
    "\n",
    "model_2.fit(X_train, y_train)\n",
    "\n",
    "y_pred_prob = model_2.predict_proba(X_test)[:,1]\n",
    "y_pred = model_2.predict(X_test)"
   ]
  },
  {
   "cell_type": "markdown",
   "metadata": {
    "papermill": {
     "duration": 0.103031,
     "end_time": "2020-11-07T01:55:29.571221",
     "exception": false,
     "start_time": "2020-11-07T01:55:29.468190",
     "status": "completed"
    },
    "tags": []
   },
   "source": [
    "### Оценка качества оптимизированной модели"
   ]
  },
  {
   "cell_type": "code",
   "execution_count": null,
   "metadata": {
    "execution": {
     "iopub.execute_input": "2020-11-07T01:55:29.824552Z",
     "iopub.status.busy": "2020-11-07T01:55:29.823463Z",
     "iopub.status.idle": "2020-11-07T01:55:30.717276Z",
     "shell.execute_reply": "2020-11-07T01:55:30.716158Z"
    },
    "papermill": {
     "duration": 1.043531,
     "end_time": "2020-11-07T01:55:30.717436",
     "exception": false,
     "start_time": "2020-11-07T01:55:29.673905",
     "status": "completed"
    },
    "tags": []
   },
   "outputs": [],
   "source": [
    "all_metrics(y_test, y_pred, y_pred_prob)\n",
    "show_roc_curve(model_2)\n",
    "show_confusion_matrix(model_2)"
   ]
  },
  {
   "cell_type": "code",
   "execution_count": null,
   "metadata": {
    "execution": {
     "iopub.execute_input": "2020-11-07T01:55:30.948572Z",
     "iopub.status.busy": "2020-11-07T01:55:30.947725Z",
     "iopub.status.idle": "2020-11-07T01:55:31.269277Z",
     "shell.execute_reply": "2020-11-07T01:55:31.268523Z"
    },
    "papermill": {
     "duration": 0.436535,
     "end_time": "2020-11-07T01:55:31.269423",
     "exception": false,
     "start_time": "2020-11-07T01:55:30.832888",
     "status": "completed"
    },
    "tags": []
   },
   "outputs": [],
   "source": [
    "plot_precision_recall_curve(model_2, X_test, y_test)"
   ]
  },
  {
   "cell_type": "markdown",
   "metadata": {
    "papermill": {
     "duration": 0.108635,
     "end_time": "2020-11-07T01:55:31.488917",
     "exception": false,
     "start_time": "2020-11-07T01:55:31.380282",
     "status": "completed"
    },
    "tags": []
   },
   "source": [
    "### Выводы по результатам первой оптимизации модели\n",
    "\n",
    "Качество работы модели значительно улучшилось. Её работа позоляет предсказать почти 70% возможных дефолтов по выданным кредитам. Однако модель отказывает трети надёжных клиентов, что потенциально приведёт к недополучению банком прибыли. "
   ]
  },
  {
   "cell_type": "markdown",
   "metadata": {
    "papermill": {
     "duration": 0.11322,
     "end_time": "2020-11-07T01:55:31.711706",
     "exception": false,
     "start_time": "2020-11-07T01:55:31.598486",
     "status": "completed"
    },
    "tags": []
   },
   "source": [
    "## 8. Submission\n",
    "\n",
    "Восстановим повторно тренировочный и тестовый датафреймы из объединённого датасета.**"
   ]
  },
  {
   "cell_type": "code",
   "execution_count": null,
   "metadata": {
    "execution": {
     "iopub.execute_input": "2020-11-07T01:55:31.969115Z",
     "iopub.status.busy": "2020-11-07T01:55:31.968148Z",
     "iopub.status.idle": "2020-11-07T01:55:31.972775Z",
     "shell.execute_reply": "2020-11-07T01:55:31.973337Z"
    },
    "papermill": {
     "duration": 0.149416,
     "end_time": "2020-11-07T01:55:31.973510",
     "exception": false,
     "start_time": "2020-11-07T01:55:31.824094",
     "status": "completed"
    },
    "tags": []
   },
   "outputs": [],
   "source": [
    "data.sample(2)"
   ]
  },
  {
   "cell_type": "code",
   "execution_count": null,
   "metadata": {
    "execution": {
     "iopub.execute_input": "2020-11-07T01:55:32.202397Z",
     "iopub.status.busy": "2020-11-07T01:55:32.201610Z",
     "iopub.status.idle": "2020-11-07T01:55:32.240745Z",
     "shell.execute_reply": "2020-11-07T01:55:32.239935Z"
    },
    "papermill": {
     "duration": 0.156963,
     "end_time": "2020-11-07T01:55:32.240886",
     "exception": false,
     "start_time": "2020-11-07T01:55:32.083923",
     "status": "completed"
    },
    "tags": []
   },
   "outputs": [],
   "source": [
    "train_data = data.query('sample == 1').drop(['sample'], axis=1)\n",
    "test_data = data.query('sample == 0').drop(['sample'], axis=1)"
   ]
  },
  {
   "cell_type": "code",
   "execution_count": null,
   "metadata": {
    "execution": {
     "iopub.execute_input": "2020-11-07T01:55:32.474981Z",
     "iopub.status.busy": "2020-11-07T01:55:32.474226Z",
     "iopub.status.idle": "2020-11-07T01:55:32.481290Z",
     "shell.execute_reply": "2020-11-07T01:55:32.481962Z"
    },
    "papermill": {
     "duration": 0.126955,
     "end_time": "2020-11-07T01:55:32.482119",
     "exception": false,
     "start_time": "2020-11-07T01:55:32.355164",
     "status": "completed"
    },
    "tags": []
   },
   "outputs": [],
   "source": [
    "# назначение тренировочной и тестовой части выборки\n",
    "X_train = train_data.drop(['default'], axis=1)\n",
    "y_train = train_data.default.values\n",
    "X_test = test_data.drop(['default'], axis=1)"
   ]
  },
  {
   "cell_type": "code",
   "execution_count": null,
   "metadata": {
    "execution": {
     "iopub.execute_input": "2020-11-07T01:55:32.737378Z",
     "iopub.status.busy": "2020-11-07T01:55:32.736199Z",
     "iopub.status.idle": "2020-11-07T01:55:32.740711Z",
     "shell.execute_reply": "2020-11-07T01:55:32.741638Z"
    },
    "papermill": {
     "duration": 0.148886,
     "end_time": "2020-11-07T01:55:32.741867",
     "exception": false,
     "start_time": "2020-11-07T01:55:32.592981",
     "status": "completed"
    },
    "tags": []
   },
   "outputs": [],
   "source": [
    "X_test.head(3)"
   ]
  },
  {
   "cell_type": "code",
   "execution_count": null,
   "metadata": {
    "execution": {
     "iopub.execute_input": "2020-11-07T01:55:32.986396Z",
     "iopub.status.busy": "2020-11-07T01:55:32.985509Z",
     "iopub.status.idle": "2020-11-07T01:55:32.990471Z",
     "shell.execute_reply": "2020-11-07T01:55:32.989700Z"
    },
    "papermill": {
     "duration": 0.131942,
     "end_time": "2020-11-07T01:55:32.990603",
     "exception": false,
     "start_time": "2020-11-07T01:55:32.858661",
     "status": "completed"
    },
    "tags": []
   },
   "outputs": [],
   "source": [
    "# sample_submission"
   ]
  },
  {
   "cell_type": "code",
   "execution_count": null,
   "metadata": {
    "execution": {
     "iopub.execute_input": "2020-11-07T01:55:33.224031Z",
     "iopub.status.busy": "2020-11-07T01:55:33.222896Z",
     "iopub.status.idle": "2020-11-07T01:55:33.238244Z",
     "shell.execute_reply": "2020-11-07T01:55:33.237608Z"
    },
    "papermill": {
     "duration": 0.135514,
     "end_time": "2020-11-07T01:55:33.238424",
     "exception": false,
     "start_time": "2020-11-07T01:55:33.102910",
     "status": "completed"
    },
    "tags": []
   },
   "outputs": [],
   "source": [
    "predict_submission = model_2.predict_proba(X_test)[:,1]"
   ]
  },
  {
   "cell_type": "code",
   "execution_count": null,
   "metadata": {
    "execution": {
     "iopub.execute_input": "2020-11-07T01:55:33.474174Z",
     "iopub.status.busy": "2020-11-07T01:55:33.473294Z",
     "iopub.status.idle": "2020-11-07T01:55:34.070043Z",
     "shell.execute_reply": "2020-11-07T01:55:34.069214Z"
    },
    "papermill": {
     "duration": 0.716311,
     "end_time": "2020-11-07T01:55:34.070184",
     "exception": false,
     "start_time": "2020-11-07T01:55:33.353873",
     "status": "completed"
    },
    "tags": []
   },
   "outputs": [],
   "source": [
    "submission = pd.DataFrame(df_test.client_id)\n",
    "submission['default'] = predict_submission\n",
    "submission.to_csv('submission.csv', index=False)"
   ]
  },
  {
   "cell_type": "code",
   "execution_count": null,
   "metadata": {
    "execution": {
     "iopub.execute_input": "2020-11-07T01:55:34.321013Z",
     "iopub.status.busy": "2020-11-07T01:55:34.319892Z",
     "iopub.status.idle": "2020-11-07T01:55:34.325218Z",
     "shell.execute_reply": "2020-11-07T01:55:34.324611Z"
    },
    "papermill": {
     "duration": 0.13992,
     "end_time": "2020-11-07T01:55:34.325390",
     "exception": false,
     "start_time": "2020-11-07T01:55:34.185470",
     "status": "completed"
    },
    "tags": []
   },
   "outputs": [],
   "source": [
    "submission"
   ]
  },
  {
   "cell_type": "markdown",
   "metadata": {
    "papermill": {
     "duration": 0.115671,
     "end_time": "2020-11-07T01:55:34.556590",
     "exception": false,
     "start_time": "2020-11-07T01:55:34.440919",
     "status": "completed"
    },
    "tags": []
   },
   "source": [
    "## Выводы\n",
    "\n",
    "Модель требует доработки с т.ч. избавления от неинформативных признаков, возможны экперименты с созданием полиноминальных признаков.\n",
    "Неободимо убрать выбросы в существующих признаках и оценить изменения оценки качества новой модели.\n",
    "Однако, в рамках 48-формата выполнения проекта, я просто не рештился на вышеназванные эксперименты с признаками.\n",
    "Отдельное спасибо Анне за предоставленный фрагмент кода для поиска оптимальных гиперпараметров модели. "
   ]
  },
  {
   "cell_type": "markdown",
   "metadata": {
    "papermill": {
     "duration": 0.119739,
     "end_time": "2020-11-07T01:55:34.793840",
     "exception": false,
     "start_time": "2020-11-07T01:55:34.674101",
     "status": "completed"
    },
    "tags": []
   },
   "source": []
  }
 ],
 "metadata": {
  "kernelspec": {
   "display_name": "Python 3",
   "language": "python",
   "name": "python3"
  },
  "language_info": {
   "codemirror_mode": {
    "name": "ipython",
    "version": 3
   },
   "file_extension": ".py",
   "mimetype": "text/x-python",
   "name": "python",
   "nbconvert_exporter": "python",
   "pygments_lexer": "ipython3",
   "version": "3.7.4"
  },
  "papermill": {
   "duration": 128.367505,
   "end_time": "2020-11-07T01:55:35.033746",
   "environment_variables": {},
   "exception": null,
   "input_path": "__notebook__.ipynb",
   "output_path": "__notebook__.ipynb",
   "parameters": {},
   "start_time": "2020-11-07T01:53:26.666241",
   "version": "2.1.0"
  }
 },
 "nbformat": 4,
 "nbformat_minor": 4
}
